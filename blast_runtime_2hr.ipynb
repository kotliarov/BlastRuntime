{
 "cells": [
  {
   "cell_type": "markdown",
   "metadata": {},
   "source": [
    "Blast query elapsed time estmate."
   ]
  },
  {
   "cell_type": "code",
   "execution_count": 1,
   "metadata": {},
   "outputs": [],
   "source": [
    "import numpy as np\n",
    "import pandas as pd\n",
    "from time import time\n",
    "from IPython.display import display # Allows the use of display() for DataFrames\n",
    "from sklearn.preprocessing import MinMaxScaler, StandardScaler\n",
    "from sklearn.model_selection import train_test_split, cross_val_score, GridSearchCV, ShuffleSplit, RandomizedSearchCV\n",
    "from sklearn.metrics import mean_squared_error\n",
    "\n",
    "from sklearn.ensemble import GradientBoostingRegressor,AdaBoostRegressor,RandomForestRegressor\n",
    "import xgboost\n",
    "\n",
    "import matplotlib.pyplot as plt\n",
    "plt.rcParams['figure.figsize'] = (10, 6)\n",
    "\n",
    "%matplotlib inline"
   ]
  },
  {
   "cell_type": "code",
   "execution_count": 2,
   "metadata": {},
   "outputs": [
    {
     "data": {
      "text/html": [
       "<div>\n",
       "<style scoped>\n",
       "    .dataframe tbody tr th:only-of-type {\n",
       "        vertical-align: middle;\n",
       "    }\n",
       "\n",
       "    .dataframe tbody tr th {\n",
       "        vertical-align: top;\n",
       "    }\n",
       "\n",
       "    .dataframe thead th {\n",
       "        text-align: right;\n",
       "    }\n",
       "</style>\n",
       "<table border=\"1\" class=\"dataframe\">\n",
       "  <thead>\n",
       "    <tr style=\"text-align: right;\">\n",
       "      <th></th>\n",
       "      <th>RID</th>\n",
       "      <th>f_ipv4</th>\n",
       "      <th>service_type</th>\n",
       "      <th>program</th>\n",
       "      <th>length_bp</th>\n",
       "      <th>dbid</th>\n",
       "      <th>dbsize_bp</th>\n",
       "      <th>started_at</th>\n",
       "      <th>run_time</th>\n",
       "    </tr>\n",
       "  </thead>\n",
       "  <tbody>\n",
       "    <tr>\n",
       "      <th>0</th>\n",
       "      <td>T88615X4014</td>\n",
       "      <td>-1838318962</td>\n",
       "      <td>1</td>\n",
       "      <td>3</td>\n",
       "      <td>31</td>\n",
       "      <td>3044012</td>\n",
       "      <td>1065365425</td>\n",
       "      <td>2019-10-02T00:00:01.677</td>\n",
       "      <td>6</td>\n",
       "    </tr>\n",
       "    <tr>\n",
       "      <th>1</th>\n",
       "      <td>T8861CA1014</td>\n",
       "      <td>1782579084</td>\n",
       "      <td>11</td>\n",
       "      <td>1</td>\n",
       "      <td>98</td>\n",
       "      <td>3820422</td>\n",
       "      <td>85971353635</td>\n",
       "      <td>2019-10-02T00:00:01.710</td>\n",
       "      <td>2</td>\n",
       "    </tr>\n",
       "    <tr>\n",
       "      <th>2</th>\n",
       "      <td>T886177G014</td>\n",
       "      <td>-1596735673</td>\n",
       "      <td>8</td>\n",
       "      <td>0</td>\n",
       "      <td>68</td>\n",
       "      <td>0</td>\n",
       "      <td>123456</td>\n",
       "      <td>2019-10-02T00:00:01.693</td>\n",
       "      <td>2</td>\n",
       "    </tr>\n",
       "    <tr>\n",
       "      <th>3</th>\n",
       "      <td>T8861G41014</td>\n",
       "      <td>686971253</td>\n",
       "      <td>8</td>\n",
       "      <td>0</td>\n",
       "      <td>1440</td>\n",
       "      <td>6409862</td>\n",
       "      <td>251782689291</td>\n",
       "      <td>2019-10-02T00:00:04.880</td>\n",
       "      <td>8</td>\n",
       "    </tr>\n",
       "    <tr>\n",
       "      <th>4</th>\n",
       "      <td>T8862YYP014</td>\n",
       "      <td>1271464837</td>\n",
       "      <td>11</td>\n",
       "      <td>1</td>\n",
       "      <td>350</td>\n",
       "      <td>3820422</td>\n",
       "      <td>85971353635</td>\n",
       "      <td>2019-10-02T00:00:02.770</td>\n",
       "      <td>33</td>\n",
       "    </tr>\n",
       "  </tbody>\n",
       "</table>\n",
       "</div>"
      ],
      "text/plain": [
       "           RID      f_ipv4  service_type  program  length_bp     dbid  \\\n",
       "0  T88615X4014 -1838318962             1        3         31  3044012   \n",
       "1  T8861CA1014  1782579084            11        1         98  3820422   \n",
       "2  T886177G014 -1596735673             8        0         68        0   \n",
       "3  T8861G41014   686971253             8        0       1440  6409862   \n",
       "4  T8862YYP014  1271464837            11        1        350  3820422   \n",
       "\n",
       "      dbsize_bp               started_at  run_time  \n",
       "0    1065365425  2019-10-02T00:00:01.677         6  \n",
       "1   85971353635  2019-10-02T00:00:01.710         2  \n",
       "2        123456  2019-10-02T00:00:01.693         2  \n",
       "3  251782689291  2019-10-02T00:00:04.880         8  \n",
       "4   85971353635  2019-10-02T00:00:02.770        33  "
      ]
     },
     "metadata": {},
     "output_type": "display_data"
    }
   ],
   "source": [
    "# Load the Census dataset\n",
    "data = pd.read_csv(\"data/2hour.csv\") #pd.read_csv(\"data/data_00_12.csv\")\n",
    "## data = data[data['dbid']!=0]\n",
    "# Success - Display the first record\n",
    "display(data.head(n=5))"
   ]
  },
  {
   "cell_type": "code",
   "execution_count": 3,
   "metadata": {},
   "outputs": [
    {
     "data": {
      "text/html": [
       "<div>\n",
       "<style scoped>\n",
       "    .dataframe tbody tr th:only-of-type {\n",
       "        vertical-align: middle;\n",
       "    }\n",
       "\n",
       "    .dataframe tbody tr th {\n",
       "        vertical-align: top;\n",
       "    }\n",
       "\n",
       "    .dataframe thead th {\n",
       "        text-align: right;\n",
       "    }\n",
       "</style>\n",
       "<table border=\"1\" class=\"dataframe\">\n",
       "  <thead>\n",
       "    <tr style=\"text-align: right;\">\n",
       "      <th></th>\n",
       "      <th>service_type</th>\n",
       "      <th>program</th>\n",
       "      <th>length_bp</th>\n",
       "      <th>dbid</th>\n",
       "      <th>dbsize_bp</th>\n",
       "      <th>run_time</th>\n",
       "    </tr>\n",
       "  </thead>\n",
       "  <tbody>\n",
       "    <tr>\n",
       "      <th>0</th>\n",
       "      <td>1</td>\n",
       "      <td>3</td>\n",
       "      <td>31</td>\n",
       "      <td>3044012</td>\n",
       "      <td>1065365425</td>\n",
       "      <td>6</td>\n",
       "    </tr>\n",
       "    <tr>\n",
       "      <th>1</th>\n",
       "      <td>11</td>\n",
       "      <td>1</td>\n",
       "      <td>98</td>\n",
       "      <td>3820422</td>\n",
       "      <td>85971353635</td>\n",
       "      <td>2</td>\n",
       "    </tr>\n",
       "    <tr>\n",
       "      <th>2</th>\n",
       "      <td>8</td>\n",
       "      <td>0</td>\n",
       "      <td>68</td>\n",
       "      <td>0</td>\n",
       "      <td>123456</td>\n",
       "      <td>2</td>\n",
       "    </tr>\n",
       "    <tr>\n",
       "      <th>3</th>\n",
       "      <td>8</td>\n",
       "      <td>0</td>\n",
       "      <td>1440</td>\n",
       "      <td>6409862</td>\n",
       "      <td>251782689291</td>\n",
       "      <td>8</td>\n",
       "    </tr>\n",
       "    <tr>\n",
       "      <th>4</th>\n",
       "      <td>11</td>\n",
       "      <td>1</td>\n",
       "      <td>350</td>\n",
       "      <td>3820422</td>\n",
       "      <td>85971353635</td>\n",
       "      <td>33</td>\n",
       "    </tr>\n",
       "  </tbody>\n",
       "</table>\n",
       "</div>"
      ],
      "text/plain": [
       "   service_type  program  length_bp     dbid     dbsize_bp  run_time\n",
       "0             1        3         31  3044012    1065365425         6\n",
       "1            11        1         98  3820422   85971353635         2\n",
       "2             8        0         68        0        123456         2\n",
       "3             8        0       1440  6409862  251782689291         8\n",
       "4            11        1        350  3820422   85971353635        33"
      ]
     },
     "metadata": {},
     "output_type": "display_data"
    }
   ],
   "source": [
    "# Drop column that should not affect runtime of a query\n",
    "subset = data.drop(['RID', 'f_ipv4', 'started_at'], axis=1)\n",
    "display(subset.head(n=5))"
   ]
  },
  {
   "cell_type": "code",
   "execution_count": 4,
   "metadata": {},
   "outputs": [
    {
     "data": {
      "text/html": [
       "<div>\n",
       "<style scoped>\n",
       "    .dataframe tbody tr th:only-of-type {\n",
       "        vertical-align: middle;\n",
       "    }\n",
       "\n",
       "    .dataframe tbody tr th {\n",
       "        vertical-align: top;\n",
       "    }\n",
       "\n",
       "    .dataframe thead th {\n",
       "        text-align: right;\n",
       "    }\n",
       "</style>\n",
       "<table border=\"1\" class=\"dataframe\">\n",
       "  <thead>\n",
       "    <tr style=\"text-align: right;\">\n",
       "      <th></th>\n",
       "      <th>length_bp</th>\n",
       "      <th>dbsize_bp</th>\n",
       "      <th>run_time</th>\n",
       "      <th>service_type_1</th>\n",
       "      <th>service_type_2</th>\n",
       "      <th>service_type_5</th>\n",
       "      <th>service_type_6</th>\n",
       "      <th>service_type_8</th>\n",
       "      <th>service_type_11</th>\n",
       "      <th>service_type_21</th>\n",
       "      <th>...</th>\n",
       "      <th>dbid_4308052</th>\n",
       "      <th>dbid_4325452</th>\n",
       "      <th>dbid_4327722</th>\n",
       "      <th>dbid_4328322</th>\n",
       "      <th>dbid_4330572</th>\n",
       "      <th>dbid_6154732</th>\n",
       "      <th>dbid_6156572</th>\n",
       "      <th>dbid_6393482</th>\n",
       "      <th>dbid_6394482</th>\n",
       "      <th>dbid_6409862</th>\n",
       "    </tr>\n",
       "  </thead>\n",
       "  <tbody>\n",
       "    <tr>\n",
       "      <th>0</th>\n",
       "      <td>31</td>\n",
       "      <td>1065365425</td>\n",
       "      <td>1.791759</td>\n",
       "      <td>1</td>\n",
       "      <td>0</td>\n",
       "      <td>0</td>\n",
       "      <td>0</td>\n",
       "      <td>0</td>\n",
       "      <td>0</td>\n",
       "      <td>0</td>\n",
       "      <td>...</td>\n",
       "      <td>0</td>\n",
       "      <td>0</td>\n",
       "      <td>0</td>\n",
       "      <td>0</td>\n",
       "      <td>0</td>\n",
       "      <td>0</td>\n",
       "      <td>0</td>\n",
       "      <td>0</td>\n",
       "      <td>0</td>\n",
       "      <td>0</td>\n",
       "    </tr>\n",
       "    <tr>\n",
       "      <th>1</th>\n",
       "      <td>98</td>\n",
       "      <td>85971353635</td>\n",
       "      <td>0.693147</td>\n",
       "      <td>0</td>\n",
       "      <td>0</td>\n",
       "      <td>0</td>\n",
       "      <td>0</td>\n",
       "      <td>0</td>\n",
       "      <td>1</td>\n",
       "      <td>0</td>\n",
       "      <td>...</td>\n",
       "      <td>0</td>\n",
       "      <td>0</td>\n",
       "      <td>0</td>\n",
       "      <td>0</td>\n",
       "      <td>0</td>\n",
       "      <td>0</td>\n",
       "      <td>0</td>\n",
       "      <td>0</td>\n",
       "      <td>0</td>\n",
       "      <td>0</td>\n",
       "    </tr>\n",
       "    <tr>\n",
       "      <th>2</th>\n",
       "      <td>68</td>\n",
       "      <td>123456</td>\n",
       "      <td>0.693147</td>\n",
       "      <td>0</td>\n",
       "      <td>0</td>\n",
       "      <td>0</td>\n",
       "      <td>0</td>\n",
       "      <td>1</td>\n",
       "      <td>0</td>\n",
       "      <td>0</td>\n",
       "      <td>...</td>\n",
       "      <td>0</td>\n",
       "      <td>0</td>\n",
       "      <td>0</td>\n",
       "      <td>0</td>\n",
       "      <td>0</td>\n",
       "      <td>0</td>\n",
       "      <td>0</td>\n",
       "      <td>0</td>\n",
       "      <td>0</td>\n",
       "      <td>0</td>\n",
       "    </tr>\n",
       "    <tr>\n",
       "      <th>3</th>\n",
       "      <td>1440</td>\n",
       "      <td>251782689291</td>\n",
       "      <td>2.079442</td>\n",
       "      <td>0</td>\n",
       "      <td>0</td>\n",
       "      <td>0</td>\n",
       "      <td>0</td>\n",
       "      <td>1</td>\n",
       "      <td>0</td>\n",
       "      <td>0</td>\n",
       "      <td>...</td>\n",
       "      <td>0</td>\n",
       "      <td>0</td>\n",
       "      <td>0</td>\n",
       "      <td>0</td>\n",
       "      <td>0</td>\n",
       "      <td>0</td>\n",
       "      <td>0</td>\n",
       "      <td>0</td>\n",
       "      <td>0</td>\n",
       "      <td>1</td>\n",
       "    </tr>\n",
       "    <tr>\n",
       "      <th>4</th>\n",
       "      <td>350</td>\n",
       "      <td>85971353635</td>\n",
       "      <td>3.496508</td>\n",
       "      <td>0</td>\n",
       "      <td>0</td>\n",
       "      <td>0</td>\n",
       "      <td>0</td>\n",
       "      <td>0</td>\n",
       "      <td>1</td>\n",
       "      <td>0</td>\n",
       "      <td>...</td>\n",
       "      <td>0</td>\n",
       "      <td>0</td>\n",
       "      <td>0</td>\n",
       "      <td>0</td>\n",
       "      <td>0</td>\n",
       "      <td>0</td>\n",
       "      <td>0</td>\n",
       "      <td>0</td>\n",
       "      <td>0</td>\n",
       "      <td>0</td>\n",
       "    </tr>\n",
       "  </tbody>\n",
       "</table>\n",
       "<p>5 rows × 83 columns</p>\n",
       "</div>"
      ],
      "text/plain": [
       "   length_bp     dbsize_bp  run_time  service_type_1  service_type_2  \\\n",
       "0         31    1065365425  1.791759               1               0   \n",
       "1         98   85971353635  0.693147               0               0   \n",
       "2         68        123456  0.693147               0               0   \n",
       "3       1440  251782689291  2.079442               0               0   \n",
       "4        350   85971353635  3.496508               0               0   \n",
       "\n",
       "   service_type_5  service_type_6  service_type_8  service_type_11  \\\n",
       "0               0               0               0                0   \n",
       "1               0               0               0                1   \n",
       "2               0               0               1                0   \n",
       "3               0               0               1                0   \n",
       "4               0               0               0                1   \n",
       "\n",
       "   service_type_21      ...       dbid_4308052  dbid_4325452  dbid_4327722  \\\n",
       "0                0      ...                  0             0             0   \n",
       "1                0      ...                  0             0             0   \n",
       "2                0      ...                  0             0             0   \n",
       "3                0      ...                  0             0             0   \n",
       "4                0      ...                  0             0             0   \n",
       "\n",
       "   dbid_4328322  dbid_4330572  dbid_6154732  dbid_6156572  dbid_6393482  \\\n",
       "0             0             0             0             0             0   \n",
       "1             0             0             0             0             0   \n",
       "2             0             0             0             0             0   \n",
       "3             0             0             0             0             0   \n",
       "4             0             0             0             0             0   \n",
       "\n",
       "   dbid_6394482  dbid_6409862  \n",
       "0             0             0  \n",
       "1             0             0  \n",
       "2             0             0  \n",
       "3             0             1  \n",
       "4             0             0  \n",
       "\n",
       "[5 rows x 83 columns]"
      ]
     },
     "metadata": {},
     "output_type": "display_data"
    }
   ],
   "source": [
    "# Transform categorical features\n",
    "categorical = ['service_type', 'program', 'dbid']\n",
    "df = pd.get_dummies(pd.DataFrame(data = subset), columns=categorical)\n",
    "\n",
    "# Apply log scale to run time\n",
    "df[['run_time']] = df[['run_time']].apply(lambda x: np.log(x))\n",
    "display(df.head(n=5))"
   ]
  },
  {
   "cell_type": "code",
   "execution_count": 5,
   "metadata": {},
   "outputs": [],
   "source": [
    "# Select target serices\n",
    "run_time = df['run_time']\n",
    "df = df.drop('run_time', axis = 1)"
   ]
  },
  {
   "cell_type": "code",
   "execution_count": 6,
   "metadata": {},
   "outputs": [
    {
     "name": "stdout",
     "output_type": "stream",
     "text": [
      "Training set has 7130 samples.\n",
      "Testing set has 1783 samples.\n"
     ]
    }
   ],
   "source": [
    "# Split the features and 'run_time' data into training and testing sets\n",
    "X_train, X_test, y_train, y_test = train_test_split(df, \n",
    "                                                    run_time, \n",
    "                                                    test_size = 0.2, \n",
    "                                                    random_state = 12345)\n",
    "\n",
    "# Show the results of the split\n",
    "print(\"Training set has {} samples.\".format(X_train.shape[0]))\n",
    "print(\"Testing set has {} samples.\".format(X_test.shape[0]))"
   ]
  },
  {
   "cell_type": "code",
   "execution_count": 7,
   "metadata": {},
   "outputs": [],
   "source": [
    "def r2_score(model, X, y):\n",
    "    model.fit(X, y)\n",
    "    return model.score(X, y)"
   ]
  },
  {
   "cell_type": "code",
   "execution_count": 8,
   "metadata": {},
   "outputs": [],
   "source": [
    "def evaluate(model, X, y):\n",
    "    score = cross_val_score(model, X, y, cv=10, scoring='neg_mean_squared_error')\n",
    "    return score.mean()"
   ]
  },
  {
   "cell_type": "code",
   "execution_count": 9,
   "metadata": {},
   "outputs": [
    {
     "name": "stdout",
     "output_type": "stream",
     "text": [
      "AdaBoostRegressor\n",
      "\tsamples=71\t\tMSE=2.11511477859229\n",
      "\tsamples=713\t\tMSE=1.5239427510820174\n",
      "\tsamples=7130\t\tMSE=1.5493658692461725\n",
      "RandomForestRegressor\n",
      "\tsamples=71\t\tMSE=2.15433893769636\n",
      "\tsamples=713\t\tMSE=1.2043432587463327\n",
      "\tsamples=7130\t\tMSE=0.9267833505548424\n",
      "GradientBoostingRegressor\n",
      "\tsamples=71\t\tMSE=2.2585844504455013\n",
      "\tsamples=713\t\tMSE=1.163232676634355\n",
      "\tsamples=7130\t\tMSE=1.0484152329145808\n"
     ]
    }
   ],
   "source": [
    "# Establish a baseline\n",
    "# Compute regressor MSE on train set using cross validation for different\n",
    "# data set sizes: 1%, 10%, 100%\n",
    "clf_A = AdaBoostRegressor(n_estimators=50, random_state=112233)\n",
    "clf_B = RandomForestRegressor(n_estimators=50, random_state=112233)\n",
    "clf_C = GradientBoostingRegressor(n_estimators=50, random_state=112233)\n",
    "\n",
    "N = len(y_train)\n",
    "samples_100 = N\n",
    "samples_10 = int(0.1 * N + 0.5)\n",
    "samples_1 = int(0.01 * N + 0.5)\n",
    "\n",
    "size = {0: samples_1,\n",
    "        1: samples_10,\n",
    "        2: samples_100}\n",
    "\n",
    "# Collect results on the learners\n",
    "results = {}\n",
    "for clf in [clf_A, clf_B, clf_C]:\n",
    "    clf_name = clf.__class__.__name__\n",
    "    results[clf_name] = {}\n",
    "    for i, samples in enumerate([samples_1, samples_10, samples_100]):\n",
    "        results[clf_name][i] = evaluate(clf, X_train[: samples], y_train[:samples])\n",
    "        \n",
    "for name, values in results.items():\n",
    "    print(\"{}\".format(name))\n",
    "    for k, error in values.items():\n",
    "        print(\"\\tsamples={}\\t\\tMSE={}\".format(size[k], error*-1))"
   ]
  },
  {
   "cell_type": "code",
   "execution_count": 10,
   "metadata": {},
   "outputs": [],
   "source": [
    "def search(model, param_grid, X, y):\n",
    "    model = RandomizedSearchCV(estimator = model, \n",
    "                               n_iter=20, \n",
    "                               param_distributions = param_grid, \n",
    "                               scoring='r2', #'neg_mean_squared_error',\n",
    "                               n_jobs=4,\n",
    "                               iid=False, \n",
    "                               cv=5)\n",
    "    model.fit(X, y)\n",
    "    return model"
   ]
  },
  {
   "cell_type": "code",
   "execution_count": 11,
   "metadata": {},
   "outputs": [
    {
     "name": "stdout",
     "output_type": "stream",
     "text": [
      "lr=0.1\tscore=0.7255401828418837\n",
      "lr=0.05\tscore=0.6740013674183378\n",
      "lr=0.02\tscore=0.574656257878975\n",
      "lr=0.01\tscore=0.4745842107096188\n"
     ]
    }
   ],
   "source": [
    "# Pick learning rate\n",
    "for lr in [0.1, 0.05, 0.02, 0.01]:\n",
    "    model = GradientBoostingRegressor(learning_rate=lr)\n",
    "    score = r2_score(model, X_train, y_train)\n",
    "    print(\"lr={}\\tscore={}\".format(lr, score))"
   ]
  },
  {
   "cell_type": "code",
   "execution_count": 12,
   "metadata": {},
   "outputs": [
    {
     "name": "stdout",
     "output_type": "stream",
     "text": [
      "estimators=100\tscore=0.7255401828418837\n",
      "estimators=200\tscore=0.7546923233984889\n",
      "estimators=300\tscore=0.7673344212768126\n",
      "estimators=500\tscore=0.7830317284033185\n",
      "estimators=700\tscore=0.7988338327925694\n",
      "estimators=1000\tscore=0.8139015205123042\n"
     ]
    }
   ],
   "source": [
    "learn_rate = 0.1\n",
    "for i in [100, 200, 300, 500, 700, 1000]:\n",
    "    model = GradientBoostingRegressor(learning_rate=learn_rate, n_estimators=i)\n",
    "    score = r2_score(model, X_train, y_train)\n",
    "    print(\"estimators={}\\tscore={}\".format(i, score))"
   ]
  },
  {
   "cell_type": "code",
   "execution_count": 13,
   "metadata": {},
   "outputs": [
    {
     "name": "stdout",
     "output_type": "stream",
     "text": [
      "GradientBoostingRegressor(alpha=0.9, criterion='friedman_mse', init=None,\n",
      "             learning_rate=0.1, loss='ls', max_depth=7, max_features=None,\n",
      "             max_leaf_nodes=None, min_impurity_decrease=0.0,\n",
      "             min_impurity_split=None, min_samples_leaf=1,\n",
      "             min_samples_split=75, min_weight_fraction_leaf=0.0,\n",
      "             n_estimators=200, n_iter_no_change=None, presort='auto',\n",
      "             random_state=10, subsample=0.8, tol=0.0001,\n",
      "             validation_fraction=0.1, verbose=0, warm_start=False)\n",
      "{'min_samples_split': 75, 'max_depth': 7}\n"
     ]
    }
   ],
   "source": [
    "# Pick max_depth and min_samples_split\n",
    "param_test = {'max_depth':[x for x in range(3,21,2)], 'min_samples_split':[x for x in range(5,80,10)]}\n",
    "model = search(GradientBoostingRegressor(learning_rate=0.1, \n",
    "                                         n_estimators=200, \n",
    "                                         subsample=0.8, \n",
    "                                         random_state=10),\n",
    "                                         param_test, \n",
    "                                         X_train, \n",
    "                                         y_train)\n",
    "print(model.best_estimator_)\n",
    "print(model.best_params_)"
   ]
  },
  {
   "cell_type": "code",
   "execution_count": 14,
   "metadata": {},
   "outputs": [
    {
     "name": "stdout",
     "output_type": "stream",
     "text": [
      "Train data set score...0.8191276786008685\n"
     ]
    }
   ],
   "source": [
    "# Evaluate model performance\n",
    "max_depth=model.best_params_['max_depth']\n",
    "min_samples_split = model.best_params_['min_samples_split']\n",
    "model = GradientBoostingRegressor(learning_rate=0.1, \n",
    "                                         max_depth=max_depth,\n",
    "                                         min_samples_split = min_samples_split,\n",
    "                                         n_estimators=200, \n",
    "                                         subsample=0.8, \n",
    "                                         random_state=10)\n",
    "model.fit(X_train, y_train)\n",
    "score = model.score(X_train, y_train)\n",
    "print(\"Train data set score...{}\".format(score))"
   ]
  },
  {
   "cell_type": "code",
   "execution_count": 15,
   "metadata": {},
   "outputs": [
    {
     "name": "stderr",
     "output_type": "stream",
     "text": [
      "/home/akotliarov/anaconda3/envs/env3/lib/python3.7/site-packages/sklearn/model_selection/_search.py:271: UserWarning: The total space of parameters 6 is smaller than n_iter=20. Running 6 iterations. For exhaustive searches, use GridSearchCV.\n",
      "  % (grid_size, self.n_iter, grid_size), UserWarning)\n"
     ]
    },
    {
     "name": "stdout",
     "output_type": "stream",
     "text": [
      "GradientBoostingRegressor(alpha=0.9, criterion='friedman_mse', init=None,\n",
      "             learning_rate=0.1, loss='ls', max_depth=7, max_features=None,\n",
      "             max_leaf_nodes=None, min_impurity_decrease=0.0,\n",
      "             min_impurity_split=None, min_samples_leaf=5,\n",
      "             min_samples_split=75, min_weight_fraction_leaf=0.0,\n",
      "             n_estimators=200, n_iter_no_change=None, presort='auto',\n",
      "             random_state=10, subsample=0.8, tol=0.0001,\n",
      "             validation_fraction=0.1, verbose=0, warm_start=False)\n",
      "{'min_samples_leaf': 5}\n"
     ]
    }
   ],
   "source": [
    "# Pick min_samples_leaf\n",
    "param_test = {'min_samples_leaf': [x for x in range(3, 15, 2)]}\n",
    "model = search(GradientBoostingRegressor(learning_rate=0.1, \n",
    "                                         max_depth=max_depth,\n",
    "                                         min_samples_split=min_samples_split,\n",
    "                                         n_estimators=200, \n",
    "                                         subsample=0.8, \n",
    "                                         random_state=10),\n",
    "                                         param_test, \n",
    "                                         X_train, \n",
    "                                         y_train)\n",
    "print(model.best_estimator_)\n",
    "print(model.best_params_)"
   ]
  },
  {
   "cell_type": "code",
   "execution_count": 16,
   "metadata": {},
   "outputs": [
    {
     "name": "stdout",
     "output_type": "stream",
     "text": [
      "Train data set score...0.8121351296487833\n"
     ]
    }
   ],
   "source": [
    "# Evaluate model performance\n",
    "min_samples_leaf = model.best_params_['min_samples_leaf']\n",
    "model = GradientBoostingRegressor(learning_rate=0.1, \n",
    "                                         max_depth=max_depth,\n",
    "                                         min_samples_split = min_samples_split,\n",
    "                                         min_samples_leaf = min_samples_leaf,\n",
    "                                         n_estimators=200, \n",
    "                                         subsample=0.8, \n",
    "                                         random_state=10)\n",
    "model.fit(X_train, y_train)\n",
    "score = model.score(X_train, y_train)\n",
    "print(\"Train data set score...{}\".format(score))"
   ]
  },
  {
   "cell_type": "code",
   "execution_count": 24,
   "metadata": {},
   "outputs": [
    {
     "name": "stdout",
     "output_type": "stream",
     "text": [
      "Train data set score...0.8349944130069306\n"
     ]
    }
   ],
   "source": [
    "# Final model.\n",
    "model = GradientBoostingRegressor(learning_rate=0.1, \n",
    "                                         max_depth=max_depth,\n",
    "                                         min_samples_split = min_samples_split,\n",
    "                                         min_samples_leaf = min_samples_leaf,\n",
    "                                         n_estimators=500, \n",
    "                                         subsample=0.7, \n",
    "                                         random_state=10)\n",
    "model.fit(X_train, y_train)\n",
    "score = model.score(X_train, y_train)\n",
    "print(\"Train data set score...{}\".format(score))"
   ]
  },
  {
   "cell_type": "code",
   "execution_count": 25,
   "metadata": {},
   "outputs": [
    {
     "name": "stdout",
     "output_type": "stream",
     "text": [
      "Test data set score...0.7633010120528377\n",
      "MSE: 0.7759\n"
     ]
    }
   ],
   "source": [
    "# Model's performance on test data.\n",
    "score = model.score(X_test, y_test)\n",
    "print(\"Test data set score...{}\".format(score))\n",
    "mse = mean_squared_error(y_test, model.predict(X_test))\n",
    "print(\"MSE: %.4f\" % mse)"
   ]
  },
  {
   "cell_type": "code",
   "execution_count": 26,
   "metadata": {},
   "outputs": [
    {
     "data": {
      "text/plain": [
       "<matplotlib.collections.PathCollection at 0x7f066c742208>"
      ]
     },
     "execution_count": 26,
     "metadata": {},
     "output_type": "execute_result"
    },
    {
     "data": {
      "image/png": "[encoded data removed]",
      "text/plain": [
       "<Figure size 432x288 with 1 Axes>"
      ]
     },
     "metadata": {
      "needs_background": "light"
     },
     "output_type": "display_data"
    }
   ],
   "source": [
    "prediction = model.predict(X_test)\n",
    "plt.scatter(y_test, prediction)"
   ]
  },
  {
   "cell_type": "code",
   "execution_count": 27,
   "metadata": {},
   "outputs": [
    {
     "name": "stderr",
     "output_type": "stream",
     "text": [
      "/home/akotliarov/anaconda3/envs/env3/lib/python3.7/site-packages/xgboost/core.py:587: FutureWarning: Series.base is deprecated and will be removed in a future version\n",
      "  if getattr(data, 'base', None) is not None and \\\n"
     ]
    },
    {
     "name": "stdout",
     "output_type": "stream",
     "text": [
      "Train data set score...R2=0.8821319347403532, MSE=0.379175337520149\n",
      "Test data set score...R2=0.7578792835288907, MSE=0.7936583159486742\n"
     ]
    }
   ],
   "source": [
    "model = xgboost.XGBRegressor(objective=\"reg:squarederror\", \n",
    "                             subsample=0.7,\n",
    "                             learning_rate=0.1,\n",
    "                             min_samples_leaf = min_samples_leaf,\n",
    "                             min_samples_split=min_samples_split,\n",
    "                             max_depth=max_depth, \n",
    "                             n_estimators=500)\n",
    "model.fit(X_train, y_train)\n",
    "score = model.score(X_train, y_train)\n",
    "print(\"Train data set score...R2={}, MSE={}\".format(score, mean_squared_error(y_train, model.predict(X_train))))\n",
    "score = model.score(X_test, y_test)\n",
    "print(\"Test data set score...R2={}, MSE={}\".format(score, mean_squared_error(y_test, model.predict(X_test))))\n"
   ]
  },
  {
   "cell_type": "code",
   "execution_count": 21,
   "metadata": {},
   "outputs": [
    {
     "data": {
      "text/plain": [
       "<matplotlib.collections.PathCollection at 0x7f066c7a9dd8>"
      ]
     },
     "execution_count": 21,
     "metadata": {},
     "output_type": "execute_result"
    },
    {
     "data": {
      "image/png": "[encoded data removed]",
      "text/plain": [
       "<Figure size 432x288 with 1 Axes>"
      ]
     },
     "metadata": {
      "needs_background": "light"
     },
     "output_type": "display_data"
    }
   ],
   "source": [
    "prediction = model.predict(X_test)\n",
    "plt.scatter(y_test, prediction, alpha=0.7)"
   ]
  },
  {
   "cell_type": "code",
   "execution_count": null,
   "metadata": {},
   "outputs": [],
   "source": []
  }
 ],
 "metadata": {
  "kernelspec": {
   "display_name": "Python 3",
   "language": "python",
   "name": "python3"
  },
  "language_info": {
   "codemirror_mode": {
    "name": "ipython",
    "version": 3
   },
   "file_extension": ".py",
   "mimetype": "text/x-python",
   "name": "python",
   "nbconvert_exporter": "python",
   "pygments_lexer": "ipython3",
   "version": "3.7.0"
  }
 },
 "nbformat": 4,
 "nbformat_minor": 2
}
