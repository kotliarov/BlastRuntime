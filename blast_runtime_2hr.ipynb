{
 "cells": [
  {
   "cell_type": "markdown",
   "metadata": {},
   "source": [
    "Blast query elapsed time estmate."
   ]
  },
  {
   "cell_type": "code",
   "execution_count": 8,
   "metadata": {},
   "outputs": [],
   "source": [
    "import numpy as np\n",
    "import pandas as pd\n",
    "from time import time\n",
    "from IPython.display import display # Allows the use of display() for DataFrames\n",
    "from sklearn.preprocessing import MinMaxScaler, StandardScaler\n",
    "from sklearn.model_selection import train_test_split, cross_val_score, GridSearchCV, ShuffleSplit, RandomizedSearchCV\n",
    "from sklearn.metrics import mean_squared_error\n",
    "\n",
    "from sklearn.ensemble import GradientBoostingRegressor,AdaBoostRegressor,RandomForestRegressor\n",
    "import xgboost\n",
    "\n",
    "import matplotlib.pyplot as plt\n",
    "plt.rcParams['figure.figsize'] = (10, 6)\n",
    "\n",
    "%matplotlib inline"
   ]
  },
  {
   "cell_type": "code",
   "execution_count": 9,
   "metadata": {},
   "outputs": [
    {
     "data": {
      "text/html": [
       "<div>\n",
       "<style scoped>\n",
       "    .dataframe tbody tr th:only-of-type {\n",
       "        vertical-align: middle;\n",
       "    }\n",
       "\n",
       "    .dataframe tbody tr th {\n",
       "        vertical-align: top;\n",
       "    }\n",
       "\n",
       "    .dataframe thead th {\n",
       "        text-align: right;\n",
       "    }\n",
       "</style>\n",
       "<table border=\"1\" class=\"dataframe\">\n",
       "  <thead>\n",
       "    <tr style=\"text-align: right;\">\n",
       "      <th></th>\n",
       "      <th>RID</th>\n",
       "      <th>f_ipv4</th>\n",
       "      <th>service_type</th>\n",
       "      <th>program</th>\n",
       "      <th>length_bp</th>\n",
       "      <th>dbid</th>\n",
       "      <th>dbsize_bp</th>\n",
       "      <th>started_at</th>\n",
       "      <th>run_time</th>\n",
       "    </tr>\n",
       "  </thead>\n",
       "  <tbody>\n",
       "    <tr>\n",
       "      <th>0</th>\n",
       "      <td>T88615X4014</td>\n",
       "      <td>-1838318962</td>\n",
       "      <td>1</td>\n",
       "      <td>3</td>\n",
       "      <td>31</td>\n",
       "      <td>3044012</td>\n",
       "      <td>1065365425</td>\n",
       "      <td>2019-10-02T00:00:01.677</td>\n",
       "      <td>6</td>\n",
       "    </tr>\n",
       "    <tr>\n",
       "      <th>1</th>\n",
       "      <td>T8861CA1014</td>\n",
       "      <td>1782579084</td>\n",
       "      <td>11</td>\n",
       "      <td>1</td>\n",
       "      <td>98</td>\n",
       "      <td>3820422</td>\n",
       "      <td>85971353635</td>\n",
       "      <td>2019-10-02T00:00:01.710</td>\n",
       "      <td>2</td>\n",
       "    </tr>\n",
       "    <tr>\n",
       "      <th>2</th>\n",
       "      <td>T886177G014</td>\n",
       "      <td>-1596735673</td>\n",
       "      <td>8</td>\n",
       "      <td>0</td>\n",
       "      <td>68</td>\n",
       "      <td>0</td>\n",
       "      <td>123456</td>\n",
       "      <td>2019-10-02T00:00:01.693</td>\n",
       "      <td>2</td>\n",
       "    </tr>\n",
       "    <tr>\n",
       "      <th>3</th>\n",
       "      <td>T8861G41014</td>\n",
       "      <td>686971253</td>\n",
       "      <td>8</td>\n",
       "      <td>0</td>\n",
       "      <td>1440</td>\n",
       "      <td>6409862</td>\n",
       "      <td>251782689291</td>\n",
       "      <td>2019-10-02T00:00:04.880</td>\n",
       "      <td>8</td>\n",
       "    </tr>\n",
       "    <tr>\n",
       "      <th>4</th>\n",
       "      <td>T8862YYP014</td>\n",
       "      <td>1271464837</td>\n",
       "      <td>11</td>\n",
       "      <td>1</td>\n",
       "      <td>350</td>\n",
       "      <td>3820422</td>\n",
       "      <td>85971353635</td>\n",
       "      <td>2019-10-02T00:00:02.770</td>\n",
       "      <td>33</td>\n",
       "    </tr>\n",
       "  </tbody>\n",
       "</table>\n",
       "</div>"
      ],
      "text/plain": [
       "           RID      f_ipv4  service_type  program  length_bp     dbid  \\\n",
       "0  T88615X4014 -1838318962             1        3         31  3044012   \n",
       "1  T8861CA1014  1782579084            11        1         98  3820422   \n",
       "2  T886177G014 -1596735673             8        0         68        0   \n",
       "3  T8861G41014   686971253             8        0       1440  6409862   \n",
       "4  T8862YYP014  1271464837            11        1        350  3820422   \n",
       "\n",
       "      dbsize_bp               started_at  run_time  \n",
       "0    1065365425  2019-10-02T00:00:01.677         6  \n",
       "1   85971353635  2019-10-02T00:00:01.710         2  \n",
       "2        123456  2019-10-02T00:00:01.693         2  \n",
       "3  251782689291  2019-10-02T00:00:04.880         8  \n",
       "4   85971353635  2019-10-02T00:00:02.770        33  "
      ]
     },
     "metadata": {},
     "output_type": "display_data"
    }
   ],
   "source": [
    "# Load the Census dataset\n",
    "data = pd.read_csv(\"data/2hour.csv\") #pd.read_csv(\"data/data_00_12.csv\")\n",
    "## data = data[data['dbid']!=0]\n",
    "# Success - Display the first record\n",
    "display(data.head(n=5))"
   ]
  },
  {
   "cell_type": "code",
   "execution_count": 10,
   "metadata": {},
   "outputs": [
    {
     "data": {
      "text/html": [
       "<div>\n",
       "<style scoped>\n",
       "    .dataframe tbody tr th:only-of-type {\n",
       "        vertical-align: middle;\n",
       "    }\n",
       "\n",
       "    .dataframe tbody tr th {\n",
       "        vertical-align: top;\n",
       "    }\n",
       "\n",
       "    .dataframe thead th {\n",
       "        text-align: right;\n",
       "    }\n",
       "</style>\n",
       "<table border=\"1\" class=\"dataframe\">\n",
       "  <thead>\n",
       "    <tr style=\"text-align: right;\">\n",
       "      <th></th>\n",
       "      <th>f_ipv4</th>\n",
       "      <th>service_type</th>\n",
       "      <th>program</th>\n",
       "      <th>length_bp</th>\n",
       "      <th>dbid</th>\n",
       "      <th>dbsize_bp</th>\n",
       "      <th>started_at</th>\n",
       "      <th>run_time</th>\n",
       "    </tr>\n",
       "  </thead>\n",
       "  <tbody>\n",
       "    <tr>\n",
       "      <th>0</th>\n",
       "      <td>-1838318962</td>\n",
       "      <td>1</td>\n",
       "      <td>3</td>\n",
       "      <td>31</td>\n",
       "      <td>3044012</td>\n",
       "      <td>1065365425</td>\n",
       "      <td>2019-10-02T00:00:01.677</td>\n",
       "      <td>6</td>\n",
       "    </tr>\n",
       "    <tr>\n",
       "      <th>1</th>\n",
       "      <td>1782579084</td>\n",
       "      <td>11</td>\n",
       "      <td>1</td>\n",
       "      <td>98</td>\n",
       "      <td>3820422</td>\n",
       "      <td>85971353635</td>\n",
       "      <td>2019-10-02T00:00:01.710</td>\n",
       "      <td>2</td>\n",
       "    </tr>\n",
       "    <tr>\n",
       "      <th>2</th>\n",
       "      <td>-1596735673</td>\n",
       "      <td>8</td>\n",
       "      <td>0</td>\n",
       "      <td>68</td>\n",
       "      <td>0</td>\n",
       "      <td>123456</td>\n",
       "      <td>2019-10-02T00:00:01.693</td>\n",
       "      <td>2</td>\n",
       "    </tr>\n",
       "    <tr>\n",
       "      <th>3</th>\n",
       "      <td>686971253</td>\n",
       "      <td>8</td>\n",
       "      <td>0</td>\n",
       "      <td>1440</td>\n",
       "      <td>6409862</td>\n",
       "      <td>251782689291</td>\n",
       "      <td>2019-10-02T00:00:04.880</td>\n",
       "      <td>8</td>\n",
       "    </tr>\n",
       "    <tr>\n",
       "      <th>4</th>\n",
       "      <td>1271464837</td>\n",
       "      <td>11</td>\n",
       "      <td>1</td>\n",
       "      <td>350</td>\n",
       "      <td>3820422</td>\n",
       "      <td>85971353635</td>\n",
       "      <td>2019-10-02T00:00:02.770</td>\n",
       "      <td>33</td>\n",
       "    </tr>\n",
       "  </tbody>\n",
       "</table>\n",
       "</div>"
      ],
      "text/plain": [
       "       f_ipv4  service_type  program  length_bp     dbid     dbsize_bp  \\\n",
       "0 -1838318962             1        3         31  3044012    1065365425   \n",
       "1  1782579084            11        1         98  3820422   85971353635   \n",
       "2 -1596735673             8        0         68        0        123456   \n",
       "3   686971253             8        0       1440  6409862  251782689291   \n",
       "4  1271464837            11        1        350  3820422   85971353635   \n",
       "\n",
       "                started_at  run_time  \n",
       "0  2019-10-02T00:00:01.677         6  \n",
       "1  2019-10-02T00:00:01.710         2  \n",
       "2  2019-10-02T00:00:01.693         2  \n",
       "3  2019-10-02T00:00:04.880         8  \n",
       "4  2019-10-02T00:00:02.770        33  "
      ]
     },
     "metadata": {},
     "output_type": "display_data"
    }
   ],
   "source": [
    "# Drop column that should not affect runtime of a query\n",
    "subset = data.drop(['RID'], axis=1)\n",
    "display(subset.head(n=5))"
   ]
  },
  {
   "cell_type": "code",
   "execution_count": 11,
   "metadata": {},
   "outputs": [
    {
     "data": {
      "text/html": [
       "<div>\n",
       "<style scoped>\n",
       "    .dataframe tbody tr th:only-of-type {\n",
       "        vertical-align: middle;\n",
       "    }\n",
       "\n",
       "    .dataframe tbody tr th {\n",
       "        vertical-align: top;\n",
       "    }\n",
       "\n",
       "    .dataframe thead th {\n",
       "        text-align: right;\n",
       "    }\n",
       "</style>\n",
       "<table border=\"1\" class=\"dataframe\">\n",
       "  <thead>\n",
       "    <tr style=\"text-align: right;\">\n",
       "      <th></th>\n",
       "      <th>f_ipv4</th>\n",
       "      <th>length_bp</th>\n",
       "      <th>dbid</th>\n",
       "      <th>dbsize_bp</th>\n",
       "      <th>started_at</th>\n",
       "      <th>run_time</th>\n",
       "      <th>service_type_1</th>\n",
       "      <th>service_type_2</th>\n",
       "      <th>service_type_5</th>\n",
       "      <th>service_type_6</th>\n",
       "      <th>service_type_8</th>\n",
       "      <th>service_type_11</th>\n",
       "      <th>service_type_21</th>\n",
       "      <th>service_type_22</th>\n",
       "      <th>service_type_88</th>\n",
       "      <th>program_0</th>\n",
       "      <th>program_1</th>\n",
       "      <th>program_2</th>\n",
       "      <th>program_3</th>\n",
       "    </tr>\n",
       "  </thead>\n",
       "  <tbody>\n",
       "    <tr>\n",
       "      <th>0</th>\n",
       "      <td>-1838318962</td>\n",
       "      <td>31</td>\n",
       "      <td>3044012</td>\n",
       "      <td>1065365425</td>\n",
       "      <td>2019-10-02T00:00:01.677</td>\n",
       "      <td>1.791759</td>\n",
       "      <td>1</td>\n",
       "      <td>0</td>\n",
       "      <td>0</td>\n",
       "      <td>0</td>\n",
       "      <td>0</td>\n",
       "      <td>0</td>\n",
       "      <td>0</td>\n",
       "      <td>0</td>\n",
       "      <td>0</td>\n",
       "      <td>0</td>\n",
       "      <td>0</td>\n",
       "      <td>0</td>\n",
       "      <td>1</td>\n",
       "    </tr>\n",
       "    <tr>\n",
       "      <th>1</th>\n",
       "      <td>1782579084</td>\n",
       "      <td>98</td>\n",
       "      <td>3820422</td>\n",
       "      <td>85971353635</td>\n",
       "      <td>2019-10-02T00:00:01.710</td>\n",
       "      <td>0.693147</td>\n",
       "      <td>0</td>\n",
       "      <td>0</td>\n",
       "      <td>0</td>\n",
       "      <td>0</td>\n",
       "      <td>0</td>\n",
       "      <td>1</td>\n",
       "      <td>0</td>\n",
       "      <td>0</td>\n",
       "      <td>0</td>\n",
       "      <td>0</td>\n",
       "      <td>1</td>\n",
       "      <td>0</td>\n",
       "      <td>0</td>\n",
       "    </tr>\n",
       "    <tr>\n",
       "      <th>2</th>\n",
       "      <td>-1596735673</td>\n",
       "      <td>68</td>\n",
       "      <td>0</td>\n",
       "      <td>123456</td>\n",
       "      <td>2019-10-02T00:00:01.693</td>\n",
       "      <td>0.693147</td>\n",
       "      <td>0</td>\n",
       "      <td>0</td>\n",
       "      <td>0</td>\n",
       "      <td>0</td>\n",
       "      <td>1</td>\n",
       "      <td>0</td>\n",
       "      <td>0</td>\n",
       "      <td>0</td>\n",
       "      <td>0</td>\n",
       "      <td>1</td>\n",
       "      <td>0</td>\n",
       "      <td>0</td>\n",
       "      <td>0</td>\n",
       "    </tr>\n",
       "    <tr>\n",
       "      <th>3</th>\n",
       "      <td>686971253</td>\n",
       "      <td>1440</td>\n",
       "      <td>6409862</td>\n",
       "      <td>251782689291</td>\n",
       "      <td>2019-10-02T00:00:04.880</td>\n",
       "      <td>2.079442</td>\n",
       "      <td>0</td>\n",
       "      <td>0</td>\n",
       "      <td>0</td>\n",
       "      <td>0</td>\n",
       "      <td>1</td>\n",
       "      <td>0</td>\n",
       "      <td>0</td>\n",
       "      <td>0</td>\n",
       "      <td>0</td>\n",
       "      <td>1</td>\n",
       "      <td>0</td>\n",
       "      <td>0</td>\n",
       "      <td>0</td>\n",
       "    </tr>\n",
       "    <tr>\n",
       "      <th>4</th>\n",
       "      <td>1271464837</td>\n",
       "      <td>350</td>\n",
       "      <td>3820422</td>\n",
       "      <td>85971353635</td>\n",
       "      <td>2019-10-02T00:00:02.770</td>\n",
       "      <td>3.496508</td>\n",
       "      <td>0</td>\n",
       "      <td>0</td>\n",
       "      <td>0</td>\n",
       "      <td>0</td>\n",
       "      <td>0</td>\n",
       "      <td>1</td>\n",
       "      <td>0</td>\n",
       "      <td>0</td>\n",
       "      <td>0</td>\n",
       "      <td>0</td>\n",
       "      <td>1</td>\n",
       "      <td>0</td>\n",
       "      <td>0</td>\n",
       "    </tr>\n",
       "  </tbody>\n",
       "</table>\n",
       "</div>"
      ],
      "text/plain": [
       "       f_ipv4  length_bp     dbid     dbsize_bp               started_at  \\\n",
       "0 -1838318962         31  3044012    1065365425  2019-10-02T00:00:01.677   \n",
       "1  1782579084         98  3820422   85971353635  2019-10-02T00:00:01.710   \n",
       "2 -1596735673         68        0        123456  2019-10-02T00:00:01.693   \n",
       "3   686971253       1440  6409862  251782689291  2019-10-02T00:00:04.880   \n",
       "4  1271464837        350  3820422   85971353635  2019-10-02T00:00:02.770   \n",
       "\n",
       "   run_time  service_type_1  service_type_2  service_type_5  service_type_6  \\\n",
       "0  1.791759               1               0               0               0   \n",
       "1  0.693147               0               0               0               0   \n",
       "2  0.693147               0               0               0               0   \n",
       "3  2.079442               0               0               0               0   \n",
       "4  3.496508               0               0               0               0   \n",
       "\n",
       "   service_type_8  service_type_11  service_type_21  service_type_22  \\\n",
       "0               0                0                0                0   \n",
       "1               0                1                0                0   \n",
       "2               1                0                0                0   \n",
       "3               1                0                0                0   \n",
       "4               0                1                0                0   \n",
       "\n",
       "   service_type_88  program_0  program_1  program_2  program_3  \n",
       "0                0          0          0          0          1  \n",
       "1                0          0          1          0          0  \n",
       "2                0          1          0          0          0  \n",
       "3                0          1          0          0          0  \n",
       "4                0          0          1          0          0  "
      ]
     },
     "metadata": {},
     "output_type": "display_data"
    }
   ],
   "source": [
    "# Transform categorical features\n",
    "categorical = ['service_type', 'program']\n",
    "df = pd.get_dummies(pd.DataFrame(data = subset), columns=categorical)\n",
    "\n",
    "# Apply log scale to run time\n",
    "df[['run_time']] = df[['run_time']].apply(lambda x: np.log(x))\n",
    "display(df.head(n=5))"
   ]
  },
  {
   "cell_type": "code",
   "execution_count": 12,
   "metadata": {},
   "outputs": [
    {
     "data": {
      "text/html": [
       "<div>\n",
       "<style scoped>\n",
       "    .dataframe tbody tr th:only-of-type {\n",
       "        vertical-align: middle;\n",
       "    }\n",
       "\n",
       "    .dataframe tbody tr th {\n",
       "        vertical-align: top;\n",
       "    }\n",
       "\n",
       "    .dataframe thead th {\n",
       "        text-align: right;\n",
       "    }\n",
       "</style>\n",
       "<table border=\"1\" class=\"dataframe\">\n",
       "  <thead>\n",
       "    <tr style=\"text-align: right;\">\n",
       "      <th></th>\n",
       "      <th>length_bp</th>\n",
       "      <th>dbsize_bp</th>\n",
       "      <th>started_at</th>\n",
       "      <th>run_time</th>\n",
       "      <th>service_type_1</th>\n",
       "      <th>service_type_2</th>\n",
       "      <th>service_type_5</th>\n",
       "      <th>service_type_6</th>\n",
       "      <th>service_type_8</th>\n",
       "      <th>service_type_11</th>\n",
       "      <th>...</th>\n",
       "      <th>f_ipv4_2130789544</th>\n",
       "      <th>dbid_0</th>\n",
       "      <th>dbid_62063</th>\n",
       "      <th>dbid_62073</th>\n",
       "      <th>dbid_93593</th>\n",
       "      <th>dbid_93623</th>\n",
       "      <th>dbid_779763</th>\n",
       "      <th>dbid_1335343</th>\n",
       "      <th>dbid_3820422</th>\n",
       "      <th>dbid_6154732</th>\n",
       "    </tr>\n",
       "  </thead>\n",
       "  <tbody>\n",
       "    <tr>\n",
       "      <th>0</th>\n",
       "      <td>31</td>\n",
       "      <td>1065365425</td>\n",
       "      <td>2019-10-02T00:00:01.677</td>\n",
       "      <td>1.791759</td>\n",
       "      <td>1</td>\n",
       "      <td>0</td>\n",
       "      <td>0</td>\n",
       "      <td>0</td>\n",
       "      <td>0</td>\n",
       "      <td>0</td>\n",
       "      <td>...</td>\n",
       "      <td>0</td>\n",
       "      <td>1</td>\n",
       "      <td>0</td>\n",
       "      <td>0</td>\n",
       "      <td>0</td>\n",
       "      <td>0</td>\n",
       "      <td>0</td>\n",
       "      <td>0</td>\n",
       "      <td>0</td>\n",
       "      <td>0</td>\n",
       "    </tr>\n",
       "    <tr>\n",
       "      <th>1</th>\n",
       "      <td>98</td>\n",
       "      <td>85971353635</td>\n",
       "      <td>2019-10-02T00:00:01.710</td>\n",
       "      <td>0.693147</td>\n",
       "      <td>0</td>\n",
       "      <td>0</td>\n",
       "      <td>0</td>\n",
       "      <td>0</td>\n",
       "      <td>0</td>\n",
       "      <td>1</td>\n",
       "      <td>...</td>\n",
       "      <td>0</td>\n",
       "      <td>0</td>\n",
       "      <td>0</td>\n",
       "      <td>0</td>\n",
       "      <td>0</td>\n",
       "      <td>0</td>\n",
       "      <td>0</td>\n",
       "      <td>0</td>\n",
       "      <td>1</td>\n",
       "      <td>0</td>\n",
       "    </tr>\n",
       "    <tr>\n",
       "      <th>2</th>\n",
       "      <td>68</td>\n",
       "      <td>123456</td>\n",
       "      <td>2019-10-02T00:00:01.693</td>\n",
       "      <td>0.693147</td>\n",
       "      <td>0</td>\n",
       "      <td>0</td>\n",
       "      <td>0</td>\n",
       "      <td>0</td>\n",
       "      <td>1</td>\n",
       "      <td>0</td>\n",
       "      <td>...</td>\n",
       "      <td>0</td>\n",
       "      <td>1</td>\n",
       "      <td>0</td>\n",
       "      <td>0</td>\n",
       "      <td>0</td>\n",
       "      <td>0</td>\n",
       "      <td>0</td>\n",
       "      <td>0</td>\n",
       "      <td>0</td>\n",
       "      <td>0</td>\n",
       "    </tr>\n",
       "    <tr>\n",
       "      <th>3</th>\n",
       "      <td>1440</td>\n",
       "      <td>251782689291</td>\n",
       "      <td>2019-10-02T00:00:04.880</td>\n",
       "      <td>2.079442</td>\n",
       "      <td>0</td>\n",
       "      <td>0</td>\n",
       "      <td>0</td>\n",
       "      <td>0</td>\n",
       "      <td>1</td>\n",
       "      <td>0</td>\n",
       "      <td>...</td>\n",
       "      <td>0</td>\n",
       "      <td>1</td>\n",
       "      <td>0</td>\n",
       "      <td>0</td>\n",
       "      <td>0</td>\n",
       "      <td>0</td>\n",
       "      <td>0</td>\n",
       "      <td>0</td>\n",
       "      <td>0</td>\n",
       "      <td>0</td>\n",
       "    </tr>\n",
       "    <tr>\n",
       "      <th>4</th>\n",
       "      <td>350</td>\n",
       "      <td>85971353635</td>\n",
       "      <td>2019-10-02T00:00:02.770</td>\n",
       "      <td>3.496508</td>\n",
       "      <td>0</td>\n",
       "      <td>0</td>\n",
       "      <td>0</td>\n",
       "      <td>0</td>\n",
       "      <td>0</td>\n",
       "      <td>1</td>\n",
       "      <td>...</td>\n",
       "      <td>0</td>\n",
       "      <td>0</td>\n",
       "      <td>0</td>\n",
       "      <td>0</td>\n",
       "      <td>0</td>\n",
       "      <td>0</td>\n",
       "      <td>0</td>\n",
       "      <td>0</td>\n",
       "      <td>1</td>\n",
       "      <td>0</td>\n",
       "    </tr>\n",
       "  </tbody>\n",
       "</table>\n",
       "<p>5 rows × 33 columns</p>\n",
       "</div>"
      ],
      "text/plain": [
       "   length_bp     dbsize_bp               started_at  run_time  service_type_1  \\\n",
       "0         31    1065365425  2019-10-02T00:00:01.677  1.791759               1   \n",
       "1         98   85971353635  2019-10-02T00:00:01.710  0.693147               0   \n",
       "2         68        123456  2019-10-02T00:00:01.693  0.693147               0   \n",
       "3       1440  251782689291  2019-10-02T00:00:04.880  2.079442               0   \n",
       "4        350   85971353635  2019-10-02T00:00:02.770  3.496508               0   \n",
       "\n",
       "   service_type_2  service_type_5  service_type_6  service_type_8  \\\n",
       "0               0               0               0               0   \n",
       "1               0               0               0               0   \n",
       "2               0               0               0               1   \n",
       "3               0               0               0               1   \n",
       "4               0               0               0               0   \n",
       "\n",
       "   service_type_11      ...       f_ipv4_2130789544  dbid_0  dbid_62063  \\\n",
       "0                0      ...                       0       1           0   \n",
       "1                1      ...                       0       0           0   \n",
       "2                0      ...                       0       1           0   \n",
       "3                0      ...                       0       1           0   \n",
       "4                1      ...                       0       0           0   \n",
       "\n",
       "   dbid_62073  dbid_93593  dbid_93623  dbid_779763  dbid_1335343  \\\n",
       "0           0           0           0            0             0   \n",
       "1           0           0           0            0             0   \n",
       "2           0           0           0            0             0   \n",
       "3           0           0           0            0             0   \n",
       "4           0           0           0            0             0   \n",
       "\n",
       "   dbid_3820422  dbid_6154732  \n",
       "0             0             0  \n",
       "1             1             0  \n",
       "2             0             0  \n",
       "3             0             0  \n",
       "4             1             0  \n",
       "\n",
       "[5 rows x 33 columns]"
      ]
     },
     "metadata": {},
     "output_type": "display_data"
    }
   ],
   "source": [
    "categoricals100 = (\"f_ipv4\", \"dbid\")\n",
    "for c in categoricals100:\n",
    "    df.loc[data[c].value_counts()[df[c]].values < 100, c] = 0\n",
    "    dummies = pd.get_dummies(df[c], prefix=c)\n",
    "    df = pd.concat([df, dummies], axis=1)\n",
    "    df.drop(c, axis=1, inplace=True)\n",
    "display(df.head(n=5))    "
   ]
  },
  {
   "cell_type": "code",
   "execution_count": 13,
   "metadata": {},
   "outputs": [
    {
     "name": "stdout",
     "output_type": "stream",
     "text": [
      "   length_bp     dbsize_bp  run_time  service_type_1  service_type_2  \\\n",
      "0         31    1065365425  1.791759               1               0   \n",
      "1         98   85971353635  0.693147               0               0   \n",
      "2         68        123456  0.693147               0               0   \n",
      "3       1440  251782689291  2.079442               0               0   \n",
      "4        350   85971353635  3.496508               0               0   \n",
      "\n",
      "   service_type_5  service_type_6  service_type_8  service_type_11  \\\n",
      "0               0               0               0                0   \n",
      "1               0               0               0                1   \n",
      "2               0               0               1                0   \n",
      "3               0               0               1                0   \n",
      "4               0               0               0                1   \n",
      "\n",
      "   service_type_21   ...    dbid_1335343  dbid_3820422  dbid_6154732  hour_0  \\\n",
      "0                0   ...               0             0             0       1   \n",
      "1                0   ...               0             1             0       1   \n",
      "2                0   ...               0             0             0       1   \n",
      "3                0   ...               0             0             0       1   \n",
      "4                0   ...               0             1             0       1   \n",
      "\n",
      "   hour_1  hour_2  hour_3  hour_4  hour_5  hour_7  \n",
      "0       0       0       0       0       0       0  \n",
      "1       0       0       0       0       0       0  \n",
      "2       0       0       0       0       0       0  \n",
      "3       0       0       0       0       0       0  \n",
      "4       0       0       0       0       0       0  \n",
      "\n",
      "[5 rows x 39 columns]\n"
     ]
    }
   ],
   "source": [
    "df['datetime'] = pd.to_datetime(df['started_at'])\n",
    "#data['datetime'] = pd.to_datetime(data['started_at'])\n",
    "df.drop(\"started_at\", axis=1, inplace=True)\n",
    "dummies_hour = pd.get_dummies(df.datetime.dt.hour, prefix=\"hour\")\n",
    "df = pd.concat([df, dummies_hour], axis=1)\n",
    "#data['hour'] = data.datetime.dt.hour\n",
    "df.drop(\"datetime\", axis=1, inplace=True)\n",
    "print(df.head())"
   ]
  },
  {
   "cell_type": "code",
   "execution_count": 14,
   "metadata": {},
   "outputs": [],
   "source": [
    "# Select target serices\n",
    "run_time = df['run_time']\n",
    "df = df.drop('run_time', axis = 1)"
   ]
  },
  {
   "cell_type": "code",
   "execution_count": 15,
   "metadata": {},
   "outputs": [
    {
     "name": "stdout",
     "output_type": "stream",
     "text": [
      "Training set has 7130 samples.\n",
      "Testing set has 1783 samples.\n"
     ]
    }
   ],
   "source": [
    "# Split the features and 'run_time' data into training and testing sets\n",
    "X_train, X_test, y_train, y_test = train_test_split(df, \n",
    "                                                    run_time, \n",
    "                                                    test_size = 0.2, \n",
    "                                                    random_state = 12345)\n",
    "\n",
    "# Show the results of the split\n",
    "print(\"Training set has {} samples.\".format(X_train.shape[0]))\n",
    "print(\"Testing set has {} samples.\".format(X_test.shape[0]))"
   ]
  },
  {
   "cell_type": "code",
   "execution_count": 16,
   "metadata": {},
   "outputs": [],
   "source": [
    "def r2_score(model, X, y):\n",
    "    model.fit(X, y)\n",
    "    return model.score(X, y)"
   ]
  },
  {
   "cell_type": "code",
   "execution_count": 17,
   "metadata": {},
   "outputs": [],
   "source": [
    "def evaluate(model, X, y):\n",
    "    score = cross_val_score(model, X, y, cv=10, scoring='neg_mean_squared_error')\n",
    "    return score.mean()"
   ]
  },
  {
   "cell_type": "code",
   "execution_count": 18,
   "metadata": {},
   "outputs": [
    {
     "name": "stdout",
     "output_type": "stream",
     "text": [
      "AdaBoostRegressor\n",
      "\tsamples=71\t\tMSE=1.579469436873722\n",
      "\tsamples=713\t\tMSE=1.285026383558834\n",
      "\tsamples=7130\t\tMSE=1.4330895528578729\n",
      "RandomForestRegressor\n",
      "\tsamples=71\t\tMSE=1.7878403151331637\n",
      "\tsamples=713\t\tMSE=1.1504218610301558\n",
      "\tsamples=7130\t\tMSE=0.8051567681068214\n",
      "GradientBoostingRegressor\n",
      "\tsamples=71\t\tMSE=1.7951451278351638\n",
      "\tsamples=713\t\tMSE=0.991559689243138\n",
      "\tsamples=7130\t\tMSE=0.8491480776830853\n"
     ]
    }
   ],
   "source": [
    "# Establish a baseline\n",
    "# Compute regressor MSE on train set using cross validation for different\n",
    "# data set sizes: 1%, 10%, 100%\n",
    "clf_A = AdaBoostRegressor(n_estimators=50, random_state=112233)\n",
    "clf_B = RandomForestRegressor(n_estimators=50, random_state=112233)\n",
    "clf_C = GradientBoostingRegressor(n_estimators=50, random_state=112233)\n",
    "\n",
    "N = len(y_train)\n",
    "samples_100 = N\n",
    "samples_10 = int(0.1 * N + 0.5)\n",
    "samples_1 = int(0.01 * N + 0.5)\n",
    "\n",
    "size = {0: samples_1,\n",
    "        1: samples_10,\n",
    "        2: samples_100}\n",
    "\n",
    "# Collect results on the learners\n",
    "results = {}\n",
    "for clf in [clf_A, clf_B, clf_C]:\n",
    "    clf_name = clf.__class__.__name__\n",
    "    results[clf_name] = {}\n",
    "    for i, samples in enumerate([samples_1, samples_10, samples_100]):\n",
    "        results[clf_name][i] = evaluate(clf, X_train[: samples], y_train[:samples])\n",
    "        \n",
    "for name, values in results.items():\n",
    "    print(\"{}\".format(name))\n",
    "    for k, error in values.items():\n",
    "        print(\"\\tsamples={}\\t\\tMSE={}\".format(size[k], error*-1))"
   ]
  },
  {
   "cell_type": "code",
   "execution_count": 19,
   "metadata": {},
   "outputs": [],
   "source": [
    "def search(model, param_grid, X, y):\n",
    "    model = RandomizedSearchCV(estimator = model, \n",
    "                               n_iter=20, \n",
    "                               param_distributions = param_grid, \n",
    "                               scoring='r2', #'neg_mean_squared_error',\n",
    "                               n_jobs=4,\n",
    "                               iid=False, \n",
    "                               cv=5)\n",
    "    model.fit(X, y)\n",
    "    return model"
   ]
  },
  {
   "cell_type": "code",
   "execution_count": 20,
   "metadata": {},
   "outputs": [
    {
     "name": "stdout",
     "output_type": "stream",
     "text": [
      "lr=0.1\tscore=0.7695168510454364\n",
      "lr=0.05\tscore=0.7431571573688882\n",
      "lr=0.02\tscore=0.6664290614917888\n",
      "lr=0.01\tscore=0.5409001338948862\n"
     ]
    }
   ],
   "source": [
    "# Pick learning rate\n",
    "for lr in [0.1, 0.05, 0.02, 0.01]:\n",
    "    model = GradientBoostingRegressor(learning_rate=lr)\n",
    "    score = r2_score(model, X_train, y_train)\n",
    "    print(\"lr={}\\tscore={}\".format(lr, score))"
   ]
  },
  {
   "cell_type": "code",
   "execution_count": 21,
   "metadata": {},
   "outputs": [
    {
     "name": "stdout",
     "output_type": "stream",
     "text": [
      "estimators=100\tscore=0.7695168510454364\n",
      "estimators=200\tscore=0.7871638731545237\n",
      "estimators=300\tscore=0.7990697683451728\n",
      "estimators=500\tscore=0.8170706948268752\n",
      "estimators=700\tscore=0.830720177703749\n",
      "estimators=1000\tscore=0.8458207756665823\n"
     ]
    }
   ],
   "source": [
    "learn_rate = 0.1\n",
    "for i in [100, 200, 300, 500, 700, 1000]:\n",
    "    model = GradientBoostingRegressor(learning_rate=learn_rate, n_estimators=i)\n",
    "    score = r2_score(model, X_train, y_train)\n",
    "    print(\"estimators={}\\tscore={}\".format(i, score))"
   ]
  },
  {
   "cell_type": "code",
   "execution_count": 22,
   "metadata": {},
   "outputs": [
    {
     "name": "stdout",
     "output_type": "stream",
     "text": [
      "GradientBoostingRegressor(alpha=0.9, criterion='friedman_mse', init=None,\n",
      "             learning_rate=0.1, loss='ls', max_depth=5, max_features=None,\n",
      "             max_leaf_nodes=None, min_impurity_decrease=0.0,\n",
      "             min_impurity_split=None, min_samples_leaf=1,\n",
      "             min_samples_split=5, min_weight_fraction_leaf=0.0,\n",
      "             n_estimators=200, n_iter_no_change=None, presort='auto',\n",
      "             random_state=10, subsample=0.8, tol=0.0001,\n",
      "             validation_fraction=0.1, verbose=0, warm_start=False)\n",
      "{'min_samples_split': 5, 'max_depth': 5}\n"
     ]
    }
   ],
   "source": [
    "# Pick max_depth and min_samples_split\n",
    "param_test = {'max_depth':[x for x in range(3,21,2)], 'min_samples_split':[x for x in range(5,80,10)]}\n",
    "model = search(GradientBoostingRegressor(learning_rate=0.1, \n",
    "                                         n_estimators=200, \n",
    "                                         subsample=0.8, \n",
    "                                         random_state=10),\n",
    "                                         param_test, \n",
    "                                         X_train, \n",
    "                                         y_train)\n",
    "print(model.best_estimator_)\n",
    "print(model.best_params_)"
   ]
  },
  {
   "cell_type": "code",
   "execution_count": 23,
   "metadata": {},
   "outputs": [
    {
     "name": "stdout",
     "output_type": "stream",
     "text": [
      "Train data set score...0.8451089216497486\n"
     ]
    }
   ],
   "source": [
    "# Evaluate model performance\n",
    "max_depth=model.best_params_['max_depth']\n",
    "min_samples_split = model.best_params_['min_samples_split']\n",
    "model = GradientBoostingRegressor(learning_rate=0.1, \n",
    "                                         max_depth=max_depth,\n",
    "                                         min_samples_split = min_samples_split,\n",
    "                                         n_estimators=200, \n",
    "                                         subsample=0.8, \n",
    "                                         random_state=10)\n",
    "model.fit(X_train, y_train)\n",
    "score = model.score(X_train, y_train)\n",
    "print(\"Train data set score...{}\".format(score))"
   ]
  },
  {
   "cell_type": "code",
   "execution_count": 24,
   "metadata": {},
   "outputs": [
    {
     "name": "stderr",
     "output_type": "stream",
     "text": [
      "/home/akotliarov/anaconda3/envs/env3/lib/python3.7/site-packages/sklearn/model_selection/_search.py:271: UserWarning: The total space of parameters 6 is smaller than n_iter=20. Running 6 iterations. For exhaustive searches, use GridSearchCV.\n",
      "  % (grid_size, self.n_iter, grid_size), UserWarning)\n"
     ]
    },
    {
     "name": "stdout",
     "output_type": "stream",
     "text": [
      "GradientBoostingRegressor(alpha=0.9, criterion='friedman_mse', init=None,\n",
      "             learning_rate=0.1, loss='ls', max_depth=5, max_features=None,\n",
      "             max_leaf_nodes=None, min_impurity_decrease=0.0,\n",
      "             min_impurity_split=None, min_samples_leaf=3,\n",
      "             min_samples_split=5, min_weight_fraction_leaf=0.0,\n",
      "             n_estimators=200, n_iter_no_change=None, presort='auto',\n",
      "             random_state=10, subsample=0.8, tol=0.0001,\n",
      "             validation_fraction=0.1, verbose=0, warm_start=False)\n",
      "{'min_samples_leaf': 3}\n"
     ]
    }
   ],
   "source": [
    "# Pick min_samples_leaf\n",
    "param_test = {'min_samples_leaf': [x for x in range(3, 15, 2)]}\n",
    "model = search(GradientBoostingRegressor(learning_rate=0.1, \n",
    "                                         max_depth=max_depth,\n",
    "                                         min_samples_split=min_samples_split,\n",
    "                                         n_estimators=200, \n",
    "                                         subsample=0.8, \n",
    "                                         random_state=10),\n",
    "                                         param_test, \n",
    "                                         X_train, \n",
    "                                         y_train)\n",
    "print(model.best_estimator_)\n",
    "print(model.best_params_)"
   ]
  },
  {
   "cell_type": "code",
   "execution_count": 25,
   "metadata": {},
   "outputs": [
    {
     "name": "stdout",
     "output_type": "stream",
     "text": [
      "Train data set score...0.8378127094895954\n"
     ]
    }
   ],
   "source": [
    "# Evaluate model performance\n",
    "min_samples_leaf = model.best_params_['min_samples_leaf']\n",
    "model = GradientBoostingRegressor(learning_rate=0.1, \n",
    "                                         max_depth=max_depth,\n",
    "                                         min_samples_split = min_samples_split,\n",
    "                                         min_samples_leaf = min_samples_leaf,\n",
    "                                         n_estimators=200, \n",
    "                                         subsample=0.8, \n",
    "                                         random_state=10)\n",
    "model.fit(X_train, y_train)\n",
    "score = model.score(X_train, y_train)\n",
    "print(\"Train data set score...{}\".format(score))"
   ]
  },
  {
   "cell_type": "code",
   "execution_count": 26,
   "metadata": {},
   "outputs": [
    {
     "name": "stdout",
     "output_type": "stream",
     "text": [
      "Train data set score...0.8697111126239393\n"
     ]
    }
   ],
   "source": [
    "# Final model.\n",
    "model = GradientBoostingRegressor(learning_rate=0.1, \n",
    "                                         max_depth=max_depth,\n",
    "                                         min_samples_split = min_samples_split,\n",
    "                                         min_samples_leaf = min_samples_leaf,\n",
    "                                         n_estimators=500, \n",
    "                                         subsample=0.7, \n",
    "                                         random_state=10)\n",
    "model.fit(X_train, y_train)\n",
    "score = model.score(X_train, y_train)\n",
    "print(\"Train data set score...{}\".format(score))"
   ]
  },
  {
   "cell_type": "code",
   "execution_count": 27,
   "metadata": {},
   "outputs": [
    {
     "name": "stdout",
     "output_type": "stream",
     "text": [
      "Test data set score...0.8072117539584259\n",
      "MSE: 0.6319\n"
     ]
    }
   ],
   "source": [
    "# Model's performance on test data.\n",
    "score = model.score(X_test, y_test)\n",
    "print(\"Test data set score...{}\".format(score))\n",
    "mse = mean_squared_error(y_test, model.predict(X_test))\n",
    "print(\"MSE: %.4f\" % mse)"
   ]
  },
  {
   "cell_type": "code",
   "execution_count": 28,
   "metadata": {},
   "outputs": [
    {
     "data": {
      "text/plain": [
       "<matplotlib.collections.PathCollection at 0x7ff0972c91d0>"
      ]
     },
     "execution_count": 28,
     "metadata": {},
     "output_type": "execute_result"
    },
    {
     "data": {
      "image/png": "[encoded data removed]",
      "text/plain": [
       "<Figure size 432x288 with 1 Axes>"
      ]
     },
     "metadata": {
      "needs_background": "light"
     },
     "output_type": "display_data"
    }
   ],
   "source": [
    "prediction = model.predict(X_test)\n",
    "plt.scatter(y_test, prediction)"
   ]
  },
  {
   "cell_type": "code",
   "execution_count": 29,
   "metadata": {},
   "outputs": [
    {
     "name": "stderr",
     "output_type": "stream",
     "text": [
      "/home/akotliarov/anaconda3/envs/env3/lib/python3.7/site-packages/xgboost/core.py:587: FutureWarning: Series.base is deprecated and will be removed in a future version\n",
      "  if getattr(data, 'base', None) is not None and \\\n"
     ]
    },
    {
     "name": "stdout",
     "output_type": "stream",
     "text": [
      "Train data set score...R2=0.8779871772040103, MSE=0.39250880349602624\n",
      "Test data set score...R2=0.8039306245794393, MSE=0.642704567264729\n"
     ]
    }
   ],
   "source": [
    "model = xgboost.XGBRegressor(objective=\"reg:squarederror\", \n",
    "                             subsample=0.7,\n",
    "                             learning_rate=0.1,\n",
    "                             min_samples_leaf = min_samples_leaf,\n",
    "                             min_samples_split=min_samples_split,\n",
    "                             max_depth=max_depth, \n",
    "                             n_estimators=500)\n",
    "model.fit(X_train, y_train)\n",
    "score = model.score(X_train, y_train)\n",
    "print(\"Train data set score...R2={}, MSE={}\".format(score, mean_squared_error(y_train, model.predict(X_train))))\n",
    "score = model.score(X_test, y_test)\n",
    "print(\"Test data set score...R2={}, MSE={}\".format(score, mean_squared_error(y_test, model.predict(X_test))))\n"
   ]
  },
  {
   "cell_type": "code",
   "execution_count": 30,
   "metadata": {},
   "outputs": [
    {
     "data": {
      "text/plain": [
       "<matplotlib.collections.PathCollection at 0x7ff097556940>"
      ]
     },
     "execution_count": 30,
     "metadata": {},
     "output_type": "execute_result"
    },
    {
     "data": {
      "image/png": "[encoded data removed]",
      "text/plain": [
       "<Figure size 432x288 with 1 Axes>"
      ]
     },
     "metadata": {
      "needs_background": "light"
     },
     "output_type": "display_data"
    }
   ],
   "source": [
    "prediction = model.predict(X_test)\n",
    "plt.scatter(y_test, prediction, alpha=0.7)"
   ]
  },
  {
   "cell_type": "code",
   "execution_count": null,
   "metadata": {},
   "outputs": [],
   "source": []
  }
 ],
 "metadata": {
  "kernelspec": {
   "display_name": "Python 3",
   "language": "python",
   "name": "python3"
  },
  "language_info": {
   "codemirror_mode": {
    "name": "ipython",
    "version": 3
   },
   "file_extension": ".py",
   "mimetype": "text/x-python",
   "name": "python",
   "nbconvert_exporter": "python",
   "pygments_lexer": "ipython3",
   "version": "3.7.0"
  }
 },
 "nbformat": 4,
 "nbformat_minor": 2
}
